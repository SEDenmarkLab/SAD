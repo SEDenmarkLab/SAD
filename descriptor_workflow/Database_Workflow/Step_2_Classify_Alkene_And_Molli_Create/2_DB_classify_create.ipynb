{
 "cells": [
  {
   "cell_type": "code",
   "execution_count": 1,
   "metadata": {},
   "outputs": [],
   "source": [
    "import pickle\n",
    "from rdkit import Chem\n",
    "from rdkit.Chem import AllChem as ac\n",
    "from rdkit.Chem.PropertyMol import PropertyMol\n",
    "import molli as ml\n",
    "from molli.external import openbabel as mob\n",
    "import pandas as pd\n",
    "from tqdm import tqdm\n",
    "\n",
    "DB_df = pd.read_csv('SAD_Database.csv')\n",
    "\n",
    "alk_type_map = {DB_df['Reactant ID'][i] : DB_df['Olefin Type'][i] for i in DB_df.index}\n",
    "\n",
    "with open('1_Database_Alkene_Identify.pkl', 'rb') as f:\n",
    "    DB_mols = pickle.load(f)\n",
    "\n",
    "DB_mols_w_h = list()\n",
    "ex_props = ['_Name', \"_Alkene_Type\", \"_Alkene\", \"_Canonical_SMILES\"]\n",
    "\n",
    "mlib = ml.MoleculeLibrary('2_DB_mols.mlib', overwrite=True, readonly=False)"
   ]
  },
  {
   "cell_type": "code",
   "execution_count": null,
   "metadata": {},
   "outputs": [
    {
     "name": "stderr",
     "output_type": "stream",
     "text": [
      "100%|██████████| 784/784 [01:01<00:00, 12.73it/s]\n"
     ]
    }
   ],
   "source": [
    "with mlib.writing():\n",
    "    for rdmol in tqdm(DB_mols):\n",
    "        try:\n",
    "            #Updates some key properties missing\n",
    "            name = rdmol.GetProp(\"_Name\")\n",
    "\n",
    "            can_smiles = Chem.MolToSmiles(rdmol, canonical=True)\n",
    "            rdmol.SetProp(\"_Canonical_SMILES\", can_smiles)\n",
    "            alk_type = alk_type_map[name]\n",
    "            rdmol.SetProp(\"_Alkene_Type\", alk_type)\n",
    "\n",
    "            #Adds Hydrogens and Optimizes Molecule\n",
    "            rdmol_w_h = PropertyMol(Chem.AddHs(rdmol))\n",
    "            ac.EmbedMolecule(rdmol_w_h)\n",
    "            ac.MMFFOptimizeMolecule(rdmol_w_h)\n",
    "\n",
    "            #This creates the Molli Molecule Object and Appends Properties to it\n",
    "            mlmol = ml.loads(\n",
    "                Chem.MolToMolBlock(rdmol_w_h), \n",
    "                fmt='mol',\n",
    "                parser='openbabel',\n",
    "                otype='molecule',\n",
    "                name = name)\n",
    "            mlmol.attrib['_Canonical_SMILES'] = can_smiles\n",
    "            mlmol.attrib[\"_Alkene_Type\"] = alk_type\n",
    "            mlmol.attrib[\"_Alkene\"] = rdmol.GetProp(\"_Alkene\")\n",
    "            mlib[name] = mlmol\n",
    "\n",
    "            for prop in ex_props:\n",
    "                rdmol_w_h.SetProp(prop, rdmol.GetProp(prop))\n",
    "            DB_mols_w_h.append(rdmol_w_h)\n",
    "\n",
    "        #Exception sometimes occurs in RDKit\n",
    "        #This is fixed by doing optimization with openbabel\n",
    "        except Exception as e:\n",
    "            print(e)\n",
    "            print(name)\n",
    "            print(rdmol.GetProp(\"_Canonical_SMILES\"))\n",
    "            mlmol = ml.loads(\n",
    "                Chem.MolToMolBlock(rdmol_w_h), \n",
    "                fmt='mol',\n",
    "                parser='openbabel',\n",
    "                otype='molecule',\n",
    "                name = name)\n",
    "            mlmol = mob.obabel_optimize(\n",
    "                mlmol,\n",
    "                ff='MMFF94',\n",
    "                inplace=False\n",
    "            )\n",
    "            mlmol.attrib['_Canonical_SMILES'] = can_smiles\n",
    "            mlmol.attrib[\"_Alkene_Type\"] = alk_type\n",
    "            mlmol.attrib[\"_Alkene\"] = rdmol.GetProp(\"_Alkene\")\n",
    "            mlib[name] = mlmol\n",
    "\n",
    "            #Updates all properties\n",
    "            for prop in ex_props:\n",
    "                rdmol_w_h.SetProp(prop, rdmol.GetProp(prop))\n",
    "            DB_mols_w_h.append(rdmol_w_h)\n",
    "            print('Fixed!')\n",
    "            continue"
   ]
  },
  {
   "cell_type": "code",
   "execution_count": 3,
   "metadata": {},
   "outputs": [],
   "source": [
    "with open('2_DB_rdmol_w_h.pkl', 'wb') as f:\n",
    "    pickle.dump(DB_mols_w_h, f)"
   ]
  }
 ],
 "metadata": {
  "kernelspec": {
   "display_name": "SAD_Modeling",
   "language": "python",
   "name": "python3"
  },
  "language_info": {
   "codemirror_mode": {
    "name": "ipython",
    "version": 3
   },
   "file_extension": ".py",
   "mimetype": "text/x-python",
   "name": "python",
   "nbconvert_exporter": "python",
   "pygments_lexer": "ipython3",
   "version": "3.12.8"
  }
 },
 "nbformat": 4,
 "nbformat_minor": 2
}
