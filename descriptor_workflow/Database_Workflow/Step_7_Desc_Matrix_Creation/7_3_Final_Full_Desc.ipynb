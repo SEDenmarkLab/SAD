{
 "cells": [
  {
   "cell_type": "code",
   "execution_count": 1,
   "metadata": {},
   "outputs": [],
   "source": [
    "import numpy as np\n",
    "import pandas as pd\n",
    "\n",
    "def create_final_desc_df(desc_df: pd.DataFrame, db_df:pd.DataFrame, vol_type: str):\n",
    "    desc_df_no_type = desc_df.loc[:, desc_df.columns != 'Alkene Type']\n",
    "\n",
    "    #This line replaces anything with \"Not Reported\" in the column with 0.0\n",
    "    db_df['Temperature ©'] = db_df['Temperature ©'].replace(\"Not Reported\", 0.0)\n",
    "    assert (temp_nan := np.count_nonzero(db_df['Temperature ©'].isna())) == 0, f'There are {temp_nan} nan values in the temperature series.'\n",
    "\n",
    "    #This recalculates the unknown temp values ddG er (kcal/mol)\n",
    "    #Converts temps to Kelvin\n",
    "    temps = db_df[\"Temperature ©\"].values.astype(float) + 273.15\n",
    "    er = db_df['er'].values\n",
    "    ddG_vals = (temps)*(8.314)*np.log(er)*(0.000239)\n",
    "\n",
    "    ####Creates Dataframe that averages all reported values of a reactant####\n",
    "    ddG_df = pd.DataFrame(data=ddG_vals, columns=['ddG er (kcal/mol)'], index=db_df.index)\n",
    "    react_id_ddG_df = pd.concat([db_df['Reactant ID'],ddG_df], axis=1)\n",
    "    averaged_ddG_by_react = react_id_ddG_df.groupby('Reactant ID').mean().reset_index()\n",
    "    average_ddG_react_ser = pd.Series(data=averaged_ddG_by_react['ddG er (kcal/mol)'].values, index=averaged_ddG_by_react['Reactant ID'].values, name='ddG er (kcal/mol)')\n",
    "    assert np.count_nonzero(average_ddG_react_ser.isna().values) == 0, f'ddG er has nan values: {average_ddG_react_ser.isna()}'\n",
    "\n",
    "    #Concatenates all values available for the reactant\n",
    "    ignore_diff_final = pd.concat([desc_df_no_type, average_ddG_react_ser],join='inner',axis=1)\n",
    "    # print('Differences Ignored DF')\n",
    "    # print(ignore_diff_final)\n",
    "\n",
    "    #This is meant to help isolate and test that certain values aren't present\n",
    "    isolate_db_df = db_df[['Reactant ID','Product ID','Solvent 1 ID','Solvent 2 ID', 'Oxidant ID', 'Catalyst ID', 'er', 'Olefin Type']]\n",
    "\n",
    "    #These are assertions to make sure there are not problems in direct comparisons\n",
    "    assert np.count_nonzero(isolate_db_df['er'].isna().values) == 0, f'ddG er has nan values: {isolate_db_df[isolate_db_df[\"er\"].isna()]}'\n",
    "\n",
    "    #The following isolate the database such that only tBuOH/Water are used, and the same oxidant\n",
    "    isolate_db_df = isolate_db_df[isolate_db_df['Solvent 1 ID'] == 'sol1_0']\n",
    "    isolate_db_df = isolate_db_df[isolate_db_df['Solvent 2 ID'] == 'sol2_0']\n",
    "    isolate_db_df = isolate_db_df[isolate_db_df['Oxidant ID'] == 'ox_0']\n",
    "\n",
    "    assert isolate_db_df['Solvent 1 ID'].nunique() == 1, f'There are more than one solvent1 values: {isolate_db_df[\"Solvent 1 ID\"].unique()}'\n",
    "    assert isolate_db_df['Solvent 2 ID'].nunique() == 1, f'There are more than one solvent2 values: {isolate_db_df[\"Solvent 2 ID\"].unique()}'\n",
    "    assert isolate_db_df['Oxidant ID'].nunique() == 1, f'There are more than one oxidant ID values: {isolate_db_df[\"Oxidant ID\"].unique()}'\n",
    "\n",
    "    isolate_desc_df = desc_df_no_type.loc[isolate_db_df['Reactant ID'].unique()]\n",
    "    # print('Differences Isolated')\n",
    "    # print(isolate_desc_df)\n",
    "\n",
    "    #There are now only 759 unique reactants that are homogeneous for this transformation compared to the original 789 that were available!\n",
    "    diff_final = pd.concat([isolate_desc_df, average_ddG_react_ser], join='outer', axis=1).dropna()\n",
    "\n",
    "    ignore_diff_final.to_csv(f'7_3_Ignore_Diff_Full_{vol_type}_Avg.csv')\n",
    "    diff_final.to_csv(f'7_3_With_Diff_Full_{vol_type}_Avg.csv')\n"
   ]
  },
  {
   "cell_type": "code",
   "execution_count": 2,
   "metadata": {},
   "outputs": [],
   "source": [
    "db = pd.read_csv('SAD_Database.csv')\n",
    "\n",
    "max_vol_df = pd.read_csv('7_1_Full_Alkene_Desc_MaxVol.csv', index_col=0)\n",
    "create_final_desc_df(max_vol_df, db, 'MaxVol')"
   ]
  },
  {
   "cell_type": "code",
   "execution_count": 3,
   "metadata": {},
   "outputs": [],
   "source": [
    "bfs_vol_df = pd.read_csv('7_1_Full_Alkene_Desc_3BFSVol.csv', index_col=0)\n",
    "create_final_desc_df(bfs_vol_df, db, 'BFSVol')"
   ]
  }
 ],
 "metadata": {
  "kernelspec": {
   "display_name": "SAD_Modeling",
   "language": "python",
   "name": "python3"
  },
  "language_info": {
   "codemirror_mode": {
    "name": "ipython",
    "version": 3
   },
   "file_extension": ".py",
   "mimetype": "text/x-python",
   "name": "python",
   "nbconvert_exporter": "python",
   "pygments_lexer": "ipython3",
   "version": "3.12.8"
  }
 },
 "nbformat": 4,
 "nbformat_minor": 2
}
