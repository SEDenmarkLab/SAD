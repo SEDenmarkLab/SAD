{
 "cells": [
  {
   "cell_type": "code",
   "execution_count": 5,
   "metadata": {},
   "outputs": [],
   "source": [
    "import numpy as np\n",
    "import pandas as pd\n",
    "\n",
    "def find_key_db_values(db_df:pd.DataFrame):\n",
    "\n",
    "    #This line replaces anything with \"Not Reported\" in the column with 0.0\n",
    "    db_df['Temperature ©'] = db_df['Temperature ©'].replace(\"Not Reported\", 0.0)\n",
    "    assert (temp_nan := np.count_nonzero(db_df['Temperature ©'].isna())) == 0, f'There are {temp_nan} nan values in the temperature series.'\n",
    "\n",
    "    #This recalculates the unknown temp values ddG er (kcal/mol)\n",
    "    #Converts temps to Kelvin\n",
    "    temps = db_df[\"Temperature ©\"].values.astype(float) + 273.15\n",
    "    er = db_df['er'].values\n",
    "    ddG_vals = (temps)*(8.314)*np.log(er)*(0.000239)\n",
    "\n",
    "    ####Creates Dataframe that averages all reported values of a reactant####\n",
    "    ddG_df = pd.DataFrame(data=ddG_vals, columns=['ddG er (kcal/mol)'], index=db_df.index)\n",
    "    react_id_ddG_df = pd.concat([db_df['Reactant ID'],ddG_df], axis=1)\n",
    "    averaged_ddG_by_react = react_id_ddG_df.groupby('Reactant ID').mean().reset_index()\n",
    "    average_ddG_react_ser = pd.Series(data=averaged_ddG_by_react['ddG er (kcal/mol)'].values, index=averaged_ddG_by_react['Reactant ID'].values, name='ddG er (kcal/mol)')\n",
    "    assert np.count_nonzero(average_ddG_react_ser.isna().values) == 0, f'ddG er has nan values: {average_ddG_react_ser.isna()}'\n",
    "\n",
    "    #This is meant to help isolate and test that certain values aren't present\n",
    "    isolate_db_df = db_df[['Reactant ID','Product ID','Solvent 1 ID','Solvent 2 ID', 'Oxidant ID', 'Catalyst ID', 'er', 'Olefin Type']]\n",
    "\n",
    "    #These are assertions to make sure there are not problems in direct comparisons\n",
    "    assert np.count_nonzero(isolate_db_df['er'].isna().values) == 0, f'ddG er has nan values: {isolate_db_df[isolate_db_df[\"er\"].isna()]}'\n",
    "\n",
    "    #The following isolate the database such that only tBuOH/Water are used, and the same oxidant\n",
    "    isolate_db_df = isolate_db_df[isolate_db_df['Solvent 1 ID'] == 'sol1_0']\n",
    "    isolate_db_df = isolate_db_df[isolate_db_df['Solvent 2 ID'] == 'sol2_0']\n",
    "    isolate_db_df = isolate_db_df[isolate_db_df['Oxidant ID'] == 'ox_0']\n",
    "\n",
    "    assert isolate_db_df['Solvent 1 ID'].nunique() == 1, f'There are more than one solvent1 values: {isolate_db_df[\"Solvent 1 ID\"].unique()}'\n",
    "    assert isolate_db_df['Solvent 2 ID'].nunique() == 1, f'There are more than one solvent2 values: {isolate_db_df[\"Solvent 2 ID\"].unique()}'\n",
    "    assert isolate_db_df['Oxidant ID'].nunique() == 1, f'There are more than one oxidant ID values: {isolate_db_df[\"Oxidant ID\"].unique()}'\n",
    "\n",
    "    return average_ddG_react_ser, isolate_db_df\n"
   ]
  },
  {
   "cell_type": "code",
   "execution_count": 6,
   "metadata": {},
   "outputs": [
    {
     "name": "stdout",
     "output_type": "stream",
     "text": [
      "Mono (148, 37)\n",
      "Gem (148, 44)\n",
      "Cis (41, 44)\n",
      "Gem (148, 44)\n",
      "Trans (250, 44)\n",
      "TriQ2 (71, 51)\n",
      "TriQ3 (38, 51)\n",
      "TriQ4 (67, 51)\n",
      "Tetra (21, 58)\n",
      "Mono (148, 37)\n",
      "Gem (148, 44)\n",
      "Cis (41, 44)\n",
      "Gem (148, 44)\n",
      "Trans (250, 44)\n",
      "TriQ2 (62, 51)\n",
      "TriQ3 (37, 51)\n",
      "TriQ4 (77, 51)\n",
      "Tetra (21, 58)\n"
     ]
    }
   ],
   "source": [
    "vol_types = ['MaxVol', '3BFSVol']\n",
    "alk_types = ['Mono', 'Gem', 'Cis', 'Gem', 'Trans', 'TriQ2', 'TriQ3', 'TriQ4', 'Tetra']\n",
    "\n",
    "db = pd.read_csv('SAD_Database.csv')\n",
    "average_ddG_react_ser, isolate_db_df = find_key_db_values(db)\n",
    "\n",
    "for vol in vol_types:\n",
    "    for alk_type in alk_types:\n",
    "        desc_df = pd.read_csv(f'7_2_{alk_type}_{vol}_Desc.csv',index_col=0)\n",
    "        desc_df_no_type = desc_df.loc[:, desc_df.columns != 'Alkene Type']\n",
    "        alk_type_average_ddG = average_ddG_react_ser[desc_df_no_type.index]\n",
    "\n",
    "        #Concatenates all values available for the reactant\n",
    "        ignore_diff_final = pd.concat([desc_df_no_type, alk_type_average_ddG],join='inner',axis=1)\n",
    "\n",
    "        #Finds the intersection with the unique reactant IDs that follow the above assertions \n",
    "        alk_type_react = np.intersect1d(isolate_db_df['Reactant ID'].unique(), desc_df_no_type.index)\n",
    "        isolate_desc_df = desc_df_no_type.loc[alk_type_react]\n",
    "\n",
    "        #There are now only 759 unique reactants that are homogeneous for this transformation compared to the original 789 that were available!\n",
    "        diff_final = pd.concat([isolate_desc_df, alk_type_average_ddG], join='outer', axis=1).dropna()\n",
    "        print(alk_type, ignore_diff_final.shape)\n",
    "        ignore_diff_final.to_csv(f'7_4_Ignore_Diff_{alk_type}_{vol}_Desc_Avg.csv')\n",
    "        diff_final.to_csv(f'7_4_With_Diff_{alk_type}_{vol}_Desc_Avg.csv')\n"
   ]
  },
  {
   "cell_type": "markdown",
   "metadata": {},
   "source": [
    "#### Within the 1014 Entry Database there are:\n",
    "4 unique Solvent 1 IDs:\n",
    "- sol1_0 = tBuOH (973 Entries)\n",
    "- sol1_1 = MeCN (39 Entries (All Tri))\n",
    "- sol1_2 = THF (1 entry (Trans))\n",
    "- sol1_3 = Acetone (1 entry (Trans))\n",
    "\n",
    "2 unique Solvent 2 IDs:\n",
    "- sol2_0 = Water (1010 Entries)\n",
    "- Sol2_1 = Acetone (2 Entries)\n",
    "- 2 Entries did not have a cosolvent\n",
    "\n",
    "3 Unique Oxidant IDs:\n",
    "- ox_0 = K3FeCN6 (1011 Entries)\n",
    "- ox_1 = NaClO2 (1 Entry (Mono))\n",
    "- ox_2 = TEMPO (2 entries (Trans))"
   ]
  }
 ],
 "metadata": {
  "kernelspec": {
   "display_name": "SAD_Modeling",
   "language": "python",
   "name": "python3"
  },
  "language_info": {
   "codemirror_mode": {
    "name": "ipython",
    "version": 3
   },
   "file_extension": ".py",
   "mimetype": "text/x-python",
   "name": "python",
   "nbconvert_exporter": "python",
   "pygments_lexer": "ipython3",
   "version": "3.12.8"
  }
 },
 "nbformat": 4,
 "nbformat_minor": 2
}
