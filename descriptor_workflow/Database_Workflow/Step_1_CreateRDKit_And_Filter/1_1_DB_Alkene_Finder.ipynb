{
 "cells": [
  {
   "cell_type": "code",
   "execution_count": 61,
   "metadata": {},
   "outputs": [],
   "source": [
    "from molli.external import rdkit as mrd\n",
    "from molli.external.rdkit import atom_filter as maf\n",
    "import pickle\n",
    "import numpy as np\n",
    "from rdkit import Chem\n",
    "from rdkit.Chem.PropertyMol import PropertyMol\n",
    "from rdkit.Chem.Draw import rdMolDraw2D\n",
    "from rdkit.Chem.Draw import IPythonConsole\n",
    "from rdkit.Chem import Draw\n",
    "from pprint import pprint\n",
    "import pandas as pd\n",
    "\n",
    "def sort_ids(s: str):\n",
    "    '''This will correctly sort any type of reaction IDs'''\n",
    "    _, b = s.split('_')\n",
    "    return int(b)\n",
    "\n",
    "def connect_check(rdmol, alk_bool: np.ndarray):\n",
    "    \"\"\"\n",
    "    This checks if the atoms identified are connected\n",
    "    \"\"\"\n",
    "\n",
    "    # This returns dictionary of atom index : atom object for the indices where the bool array was true\n",
    "    isolated_carbon_atoms = [\n",
    "        rdmol.GetAtomWithIdx(int(i)) for i in np.where(alk_bool)[0]\n",
    "    ]\n",
    "\n",
    "    carbon1_neighbor_atom_idx = list()\n",
    "    carbon1 = isolated_carbon_atoms[0]\n",
    "    carbon2 = isolated_carbon_atoms[1]\n",
    "\n",
    "    carbon1_neighbor_atoms = carbon1.GetNeighbors()\n",
    "\n",
    "    for neighbor in carbon1_neighbor_atoms:\n",
    "        neighbor_idx = neighbor.GetIdx()\n",
    "        carbon1_neighbor_atom_idx.append(neighbor_idx)\n",
    "    if carbon2.GetIdx() in carbon1_neighbor_atom_idx:\n",
    "        return True\n",
    "    else:\n",
    "        print(f'{rdmol.GetProp(\"_Name\")} do not have carbons connecting')\n",
    "        return False\n",
    "\n",
    "def update_visualize_mols(\n",
    "    name: str,\n",
    "    rdmol_list: list,\n",
    "    subImgSize=(700, 700),\n",
    "    legendFontSize=30,\n",
    "    molsPerRow=5,\n",
    "    label: str = \"_Name\",\n",
    "    highlight_bonds=True,\n",
    "    highlight_prop=\"_Alkene\",\n",
    "):\n",
    "    '''\n",
    "    This allows the visualization of the alkenes isolated through RDKit.\n",
    "    '''\n",
    "    #Formats the legend\n",
    "    legends = [i.GetProp(label) for i in rdmol_list]\n",
    "\n",
    "    #Formats the rows and drawing\n",
    "    nRows = len(rdmol_list) // molsPerRow\n",
    "    if len(rdmol_list) % molsPerRow:\n",
    "        nRows += 1\n",
    "    fullSize = (molsPerRow * subImgSize[0], nRows * subImgSize[1])\n",
    "\n",
    "    d2d = rdMolDraw2D.MolDraw2DSVG(\n",
    "        fullSize[0], fullSize[1], subImgSize[0], subImgSize[1]\n",
    "    )\n",
    "    d2d.drawOptions().legendFontSize = legendFontSize\n",
    "\n",
    "    #Highlights then draws the bond\n",
    "    if len(rdmol_list) != 0:\n",
    "        highlight_atoms_vals = list()\n",
    "        highlight_bonds_vals = list()\n",
    "\n",
    "        # This finds the atoms highlighted and bonds that exist between them\n",
    "        if highlight_bonds:\n",
    "            for rdmol in rdmol_list:\n",
    "\n",
    "                _filter = np.array(\n",
    "                    [True if v == \"1\" else False for v in rdmol.GetProp(highlight_prop)]\n",
    "                )\n",
    "                sub_atoms = [int(i) for i in np.where(_filter)[0]]\n",
    "                highlight_atoms_vals.append(sub_atoms)\n",
    "                sub_bonds = list()\n",
    "\n",
    "                for bond in rdmol.GetBonds():\n",
    "                    a1 = bond.GetBeginAtomIdx()\n",
    "                    a2 = bond.GetEndAtomIdx()\n",
    "                    if (a1 in sub_atoms) and (a2 in sub_atoms):\n",
    "                        sub_bonds.append(rdmol.GetBondBetweenAtoms(a1, a2).GetIdx())\n",
    "                highlight_bonds_vals.append(sub_bonds)\n",
    "        else:\n",
    "            highlight_atoms_vals = None\n",
    "            highlight_bonds = None\n",
    "\n",
    "        d2d.DrawMolecules(\n",
    "            rdmol_list,\n",
    "            highlightAtoms=highlight_atoms_vals,\n",
    "            highlightBonds=highlight_bonds_vals,\n",
    "            legends=legends,\n",
    "        )\n",
    "        d2d.FinishDrawing()\n",
    "\n",
    "        with open(f\"{name}.svg\", \"w\") as f:\n",
    "            f.write(d2d.GetDrawingText())\n",
    "\n",
    "def alkene_filter(\n",
    "    rdmol_list: list,\n",
    "    methods: list[str] = list(),\n",
    "    prop_value: str = \"_Alkene\",\n",
    "    visualize: bool = True,\n",
    "    vis_name=\"Filter\",\n",
    "):\n",
    "    '''\n",
    "    This takes a list of alkene mols, then applies various atom filters available\n",
    "    in the molli RDKit interface\n",
    "    '''\n",
    "    remaining_mols = list()\n",
    "    alkene_mols = list()\n",
    "    problematic_rdmol = list()\n",
    "    not_connected_alkenes = list()\n",
    "\n",
    "    for rdmol in rdmol_list:\n",
    "        maf_mol = maf(rdmol)\n",
    "        # This line attempts to take any method provided on the maf_mol\n",
    "        # This includes if a tilde is present but is expected at the beginning of the string\n",
    "        af_filter = np.logical_and.reduce(\n",
    "            [\n",
    "                (\n",
    "                    eval(f\"maf_mol.{l}\", {}, {\"maf_mol\": maf_mol})\n",
    "                    if \"~\" not in l\n",
    "                    else eval(f\"~maf_mol.{l[1:]}\", {}, {\"maf_mol\": maf_mol})\n",
    "                )\n",
    "                for l in methods\n",
    "            ]\n",
    "        )\n",
    "\n",
    "        # This checks that the two atoms found are connected and can be recalled correctly\n",
    "        if np.count_nonzero(af_filter) == 2:\n",
    "            rdmol.SetProp(prop_value, \"\".join(\"1\" if v else \"0\" for v in af_filter))\n",
    "            recall_af_filter = np.array(\n",
    "                [True if v == \"1\" else False for v in rdmol.GetProp(prop_value)]\n",
    "            )\n",
    "            # Tests to make sure the array property is set and returned properly\n",
    "            if all(recall_af_filter == af_filter):\n",
    "                if connect_check(rdmol, af_filter):\n",
    "                    alkene_mols.append(rdmol)\n",
    "                else:\n",
    "                    remaining_mols.append(rdmol)\n",
    "                    not_connected_alkenes.append(rdmol)\n",
    "            else:\n",
    "                print(\n",
    "                    f'{rdmol.GetProp(\"_Name\")} did not correctly return alkene boolean, appended to problematic mol object list'\n",
    "                )\n",
    "                remaining_mols.append(rdmol)\n",
    "                problematic_rdmol.append(rdmol)\n",
    "        else:\n",
    "            remaining_mols.append(rdmol)\n",
    "\n",
    "    #This can be used to visualize the molecules isolated\n",
    "    if visualize:\n",
    "        if len(alkene_mols) != 0:\n",
    "            update_visualize_mols(\n",
    "                vis_name, alkene_mols, highlight_bonds=True, highlight_prop=prop_value\n",
    "            )\n",
    "        if len(not_connected_alkenes) != 0:\n",
    "            update_visualize_mols(\n",
    "                f\"{vis_name}_not_connected\",\n",
    "                not_connected_alkenes,\n",
    "                highlight_bonds=True,\n",
    "                highlight_prop=prop_value,\n",
    "            )\n",
    "        if len(not_connected_alkenes) != 0:\n",
    "            update_visualize_mols(\n",
    "                f\"{vis_name}_problematic\",\n",
    "                problematic_rdmol,\n",
    "                highlight_bonds=True,\n",
    "                highlight_prop=prop_value,\n",
    "            )\n",
    "    \n",
    "    #This confirms no alkenes are lost\n",
    "    assert (\n",
    "        all_len := len(problematic_rdmol)\n",
    "        + len(not_connected_alkenes)\n",
    "        + len(remaining_mols)\n",
    "        + len(alkene_mols)\n",
    "    ) == len(\n",
    "        rdmol_list\n",
    "    ), f\"Not correct! Current length = {all_len}, Original length = {len(rdmol_list)}\"\n",
    "    \n",
    "    # These alkenes need to be rerun\n",
    "    print(f\"{vis_name} has found {len(alkene_mols)} alkenes\")\n",
    "    print(f\"There are {len(remaining_mols)} remaining\")\n",
    "    return remaining_mols, alkene_mols\n",
    "\n",
    "def create_rdlist(\n",
    "        df: pd.DataFrame,\n",
    "        label_col :str,\n",
    "        smi_col: str,\n",
    "        pkl_name: str|None):\n",
    "    \n",
    "    rdlist = list()\n",
    "\n",
    "    #This creates a dictionary associated with a label and smiles string\n",
    "    label_map = {df[label_col][i] : df[smi_col][i] for i in df.index}\n",
    "    \n",
    "    for label_id in label_map:\n",
    "        rdmol = PropertyMol(Chem.MolFromSmiles(label_map[label_id]))\n",
    "        rdmol.SetProp(\"_Name\", f'{label_id}')\n",
    "        rdlist.append(rdmol)\n",
    "    \n",
    "    if pkl_name:\n",
    "        with open(f'{pkl_name}', 'wb') as f:\n",
    "            pickle.dump(rdlist, f)\n",
    "\n",
    "    return rdlist\n"
   ]
  },
  {
   "cell_type": "code",
   "execution_count": 62,
   "metadata": {},
   "outputs": [
    {
     "name": "stdout",
     "output_type": "stream",
     "text": [
      "There are 73 alkenes with multiple possible alkenes\n",
      "There are 711 alkenes\n",
      "There are 987 diols\n"
     ]
    }
   ],
   "source": [
    "DB_df = pd.read_csv(f'SAD_Database.csv')\n",
    "\n",
    "num = DB_df.shape[0]\n",
    "\n",
    "#This re-orders the dataframe based on the correct title of the reactant name, and then resets the index to make it simple to write an ordered dictionary\n",
    "react_argsort = np.vectorize(sort_ids)(DB_df['Reactant ID']).argsort()\n",
    "sort_react_df = DB_df.iloc[react_argsort]\n",
    "sort_react_df = sort_react_df.reset_index(drop=True)\n",
    "\n",
    "react = create_rdlist(\n",
    "    DB_df,\n",
    "    label_col = 'Reactant ID',\n",
    "    smi_col = 'Reactant SMILES',\n",
    "    pkl_name = f'SAD_Database_Reactants.pkl'\n",
    ")\n",
    "\n",
    "prd = create_rdlist(\n",
    "    DB_df,\n",
    "    label_col = 'Product ID',\n",
    "    smi_col = 'Product SMILES',\n",
    "    pkl_name = f'SAD_Database_Products.pkl'\n",
    ")\n",
    "\n",
    "final_mols = list()\n",
    "\n",
    "#This identifies the names of reactants with multiple alkenes\n",
    "adn = DB_df[['Reactant ID','Additional Notes']]\n",
    "mult_alk_names = adn[adn['Additional Notes'].fillna('').str.contains('multiple alkenes')]['Reactant ID'].unique()\n",
    "\n",
    "multiple_alkenes = [x for x in react if x.GetProp(\"_Name\") in mult_alk_names]\n",
    "react = [x for x in react if x not in multiple_alkenes]\n",
    "\n",
    "print(f'There are {len(multiple_alkenes)} alkenes with multiple possible alkenes')\n",
    "print(f'There are {len(react)} alkenes')\n",
    "print(f'There are {len(prd)} diols')"
   ]
  },
  {
   "cell_type": "code",
   "execution_count": 63,
   "metadata": {},
   "outputs": [
    {
     "name": "stdout",
     "output_type": "stream",
     "text": [
      "Filter1 has found 124 alkenes\n",
      "There are 587 remaining\n"
     ]
    }
   ],
   "source": [
    "#Check 1\n",
    "rem_mol, alk_mol = alkene_filter(\n",
    "    rdmol_list=react,\n",
    "    methods=[\"sp2_type()\", \"carbon_type()\"],\n",
    "    visualize=False,\n",
    "    vis_name=\"Filter1\"\n",
    ")\n",
    "\n",
    "final_mols.extend(alk_mol)"
   ]
  },
  {
   "cell_type": "code",
   "execution_count": 64,
   "metadata": {},
   "outputs": [
    {
     "name": "stdout",
     "output_type": "stream",
     "text": [
      "Filter2 has found 36 alkenes\n",
      "There are 551 remaining\n"
     ]
    }
   ],
   "source": [
    "#Check 2\n",
    "rem_mol, alk_mol = alkene_filter(\n",
    "    rdmol_list=rem_mol,\n",
    "    methods=[\"sp2_type()\", \"carbon_type()\", \"in_1_ring()\", \"het_neighbors_0()\", \"~aromatic_type()\"],\n",
    "    visualize=False,\n",
    "    vis_name=\"Filter2\"\n",
    ")\n",
    "\n",
    "final_mols.extend(alk_mol)"
   ]
  },
  {
   "cell_type": "code",
   "execution_count": 65,
   "metadata": {},
   "outputs": [
    {
     "name": "stdout",
     "output_type": "stream",
     "text": [
      "Filter3 has found 468 alkenes\n",
      "There are 83 remaining\n"
     ]
    }
   ],
   "source": [
    "#Check 3\n",
    "rem_mol, alk_mol = alkene_filter(\n",
    "    rdmol_list=rem_mol,\n",
    "    methods=[\"sp2_type()\", \"carbon_type()\",\"het_neighbors_0()\", \"~aromatic_type()\"],\n",
    "    visualize=False,\n",
    "    vis_name=\"Filter3\"\n",
    ")\n",
    "\n",
    "final_mols.extend(alk_mol)\n"
   ]
  },
  {
   "cell_type": "code",
   "execution_count": 66,
   "metadata": {},
   "outputs": [
    {
     "name": "stdout",
     "output_type": "stream",
     "text": [
      "Filter4 has found 0 alkenes\n",
      "There are 83 remaining\n"
     ]
    }
   ],
   "source": [
    "#Check 4\n",
    "rem_mol, alk_mol = alkene_filter(\n",
    "    rdmol_list=rem_mol,\n",
    "    methods=[\"sp2_type()\" , 'carbon_type()' , 'het_neighbors_1()' , '~in_1_ring()' , '~aromatic_type()' , \"~smarts_query('[$([CX3]=[OX1]),$([CX3+]-[OX1-])]')\"],\n",
    "    visualize=False,\n",
    "    vis_name=\"Filter4\"\n",
    ")\n",
    "\n",
    "final_mols.extend(alk_mol)\n"
   ]
  },
  {
   "cell_type": "code",
   "execution_count": 67,
   "metadata": {},
   "outputs": [
    {
     "name": "stdout",
     "output_type": "stream",
     "text": [
      "Filter5 has found 0 alkenes\n",
      "There are 83 remaining\n"
     ]
    }
   ],
   "source": [
    "#Check 5\n",
    "rem_mol, alk_mol = alkene_filter(\n",
    "    rdmol_list=rem_mol,\n",
    "    methods=[\"sp2_type()\" , \"carbon_type()\" , \"het_neighbors_1()\" , \"in_1_ring()\" , \"~aromatic_type()\" , \"~smarts_query('[$([CX3]=[OX1]),$([CX3+]-[OX1-])]')\"],\n",
    "    visualize=False,\n",
    "    vis_name=\"Filter5\"\n",
    ")\n",
    "\n",
    "final_mols.extend(alk_mol)"
   ]
  },
  {
   "cell_type": "code",
   "execution_count": 68,
   "metadata": {},
   "outputs": [
    {
     "name": "stdout",
     "output_type": "stream",
     "text": [
      "Filter6 has found 35 alkenes\n",
      "There are 48 remaining\n"
     ]
    }
   ],
   "source": [
    "#Check 6\n",
    "rem_mol, alk_mol = alkene_filter(\n",
    "    rdmol_list=rem_mol,\n",
    "    methods=[\"sp2_type()\" , \"carbon_type()\" , \"~het_neighbors_3()\" , \"in_1_ring()\" , \"~aromatic_type()\" , \"~smarts_query('[$([CX3]=[OX1]),$([CX3+]-[OX1-])]')\"],\n",
    "    visualize=False,\n",
    "    vis_name=\"Filter6\"\n",
    ")\n",
    "\n",
    "final_mols.extend(alk_mol)"
   ]
  },
  {
   "cell_type": "code",
   "execution_count": 69,
   "metadata": {},
   "outputs": [
    {
     "name": "stdout",
     "output_type": "stream",
     "text": [
      "Filter7 has found 46 alkenes\n",
      "There are 2 remaining\n"
     ]
    }
   ],
   "source": [
    "#Check 7\n",
    "rem_mol, alk_mol = alkene_filter(\n",
    "    rdmol_list=rem_mol,\n",
    "    methods=[\"sp2_type()\" , \"carbon_type()\" , \"~het_neighbors_3()\" , \"~in_2_rings()\" , \"~aromatic_type()\" , \"~smarts_query('[$([CX3]=[OX1]),$([CX3+]-[OX1-])]')\"],\n",
    "    visualize=False,\n",
    "    vis_name=\"Filter7\"\n",
    ")\n",
    "\n",
    "final_mols.extend(alk_mol)"
   ]
  },
  {
   "cell_type": "code",
   "execution_count": 70,
   "metadata": {},
   "outputs": [
    {
     "name": "stdout",
     "output_type": "stream",
     "text": [
      "Filter8 has found 0 alkenes\n",
      "There are 2 remaining\n"
     ]
    }
   ],
   "source": [
    "#Check 8\n",
    "rem_mol, alk_mol = alkene_filter(\n",
    "    rdmol_list=rem_mol,\n",
    "    methods=[\"sp2_type()\" , \"carbon_type()\" , \"~in_2_rings()\" , \"~het_neighbors_3()\" , \"aromatic_type()\" , \"ring_size5()\" , \"~smarts_query('[$([CX3]=[OX1]),$([CX3+]-[OX1-])]')\" , \"~smarts_query('c1cscn1')\"],\n",
    "    visualize=False,\n",
    "    vis_name=\"Filter8\"\n",
    ")\n",
    "\n",
    "final_mols.extend(alk_mol)"
   ]
  },
  {
   "cell_type": "code",
   "execution_count": 71,
   "metadata": {},
   "outputs": [
    {
     "name": "stdout",
     "output_type": "stream",
     "text": [
      "Filter9 has found 0 alkenes\n",
      "There are 2 remaining\n"
     ]
    }
   ],
   "source": [
    "#Check 9\n",
    "rem_mol, alk_mol = alkene_filter(\n",
    "    rdmol_list=rem_mol,\n",
    "    methods=[\"sp2_type()\" , \"carbon_type()\" , \"~in_2_rings()\" , \"~het_neighbors_3()\" , \"smarts_query('[NX3][CX3]=[CX3]')\" , \"~smarts_query('[$([CX3]=[OX1]),$([CX3+]-[OX1-])]')\"],\n",
    "    visualize=False,\n",
    "    vis_name=\"Filter9\"\n",
    ")\n",
    "\n",
    "final_mols.extend(alk_mol)"
   ]
  },
  {
   "cell_type": "code",
   "execution_count": 72,
   "metadata": {},
   "outputs": [
    {
     "name": "stdout",
     "output_type": "stream",
     "text": [
      "Filter10 has found 0 alkenes\n",
      "There are 2 remaining\n"
     ]
    }
   ],
   "source": [
    "#Check 10\n",
    "rem_mol, alk_mol = alkene_filter(\n",
    "    rdmol_list=rem_mol,\n",
    "    methods=[\"sp2_type()\" , \"carbon_type()\" , \"smarts_query('[nX3H][cX3]([CX4])[cX3]([CX4])')\"],\n",
    "    visualize=False,\n",
    "    vis_name=\"Filter10\"\n",
    ")\n",
    "\n",
    "final_mols.extend(alk_mol)"
   ]
  },
  {
   "cell_type": "code",
   "execution_count": 73,
   "metadata": {},
   "outputs": [
    {
     "name": "stdout",
     "output_type": "stream",
     "text": [
      "Filter11 has found 0 alkenes\n",
      "There are 2 remaining\n"
     ]
    }
   ],
   "source": [
    "#Check 11\n",
    "rem_mol, alk_mol = alkene_filter(\n",
    "    rdmol_list=rem_mol,\n",
    "    methods=[\"sp2_type()\" , \"carbon_type()\" , \"smarts_query('[CX3]=[CX3][CX4][OH]')\" , \"~smarts_query('C=CC=C')\"],\n",
    "    visualize=False,\n",
    "    vis_name=\"Filter11\"\n",
    ")\n",
    "\n",
    "final_mols.extend(alk_mol)"
   ]
  },
  {
   "cell_type": "code",
   "execution_count": 74,
   "metadata": {},
   "outputs": [
    {
     "name": "stdout",
     "output_type": "stream",
     "text": [
      "Filter12 has found 0 alkenes\n",
      "There are 2 remaining\n"
     ]
    }
   ],
   "source": [
    "#Check 12\n",
    "rem_mol, alk_mol = alkene_filter(\n",
    "    rdmol_list=rem_mol,\n",
    "    methods=[\"sp2_type()\" , \"carbon_type()\" , \"~het_neighbors_3()\" , \"smarts_query('c1[nH]c(=O)oc1')\"],\n",
    "    visualize=False,\n",
    "    vis_name=\"Filter12\"\n",
    ")\n",
    "\n",
    "final_mols.extend(alk_mol)"
   ]
  },
  {
   "cell_type": "code",
   "execution_count": 75,
   "metadata": {},
   "outputs": [
    {
     "name": "stdout",
     "output_type": "stream",
     "text": [
      "Filter13 has found 0 alkenes\n",
      "There are 2 remaining\n"
     ]
    }
   ],
   "source": [
    "#Check 13\n",
    "rem_mol, alk_mol = alkene_filter(\n",
    "    rdmol_list=rem_mol,\n",
    "    methods=[\"sp2_type()\" , \"carbon_type()\" , \"~het_neighbors_2()\" , \"smarts_query('O=c(o)cc')\"],\n",
    "    visualize=False,\n",
    "    vis_name=\"Filter13\"\n",
    ")\n",
    "\n",
    "final_mols.extend(alk_mol)"
   ]
  },
  {
   "cell_type": "code",
   "execution_count": 76,
   "metadata": {},
   "outputs": [
    {
     "name": "stdout",
     "output_type": "stream",
     "text": [
      "Filter14 has found 0 alkenes\n",
      "There are 2 remaining\n"
     ]
    }
   ],
   "source": [
    "#Check 14\n",
    "rem_mol, alk_mol = alkene_filter(\n",
    "    rdmol_list=rem_mol,\n",
    "    methods=[\"sp2_type()\" , \"carbon_type()\" , \"~aromatic_type()\"],\n",
    "    visualize=False,\n",
    "    vis_name=\"Filter14\"\n",
    ")\n",
    "\n",
    "final_mols.extend(alk_mol)"
   ]
  },
  {
   "cell_type": "code",
   "execution_count": 77,
   "metadata": {},
   "outputs": [
    {
     "name": "stdout",
     "output_type": "stream",
     "text": [
      "Filter15 has found 2 alkenes\n",
      "There are 0 remaining\n"
     ]
    }
   ],
   "source": [
    "#Check 15\n",
    "rem_mol, alk_mol = alkene_filter(\n",
    "    rdmol_list=rem_mol,\n",
    "    methods=[\"sp2_type()\" , \"carbon_type()\" , \"in_2_rings()\", \"smarts_query('cc[n,o]c=O')\", \"~smarts_query('c1ccccc1')\"],\n",
    "    visualize=False,\n",
    "    vis_name=\"Filter15\"\n",
    ")\n",
    "\n",
    "final_mols.extend(alk_mol)\n"
   ]
  },
  {
   "cell_type": "code",
   "execution_count": 78,
   "metadata": {},
   "outputs": [],
   "source": [
    "for rdmol in rem_mol:\n",
    "    acmol = maf(rdmol)\n",
    "\n",
    "    acbool = acmol.sp2_type() & acmol.carbon_type() & ~acmol.aromatic_type()\n",
    "\n",
    "    if np.count_nonzero(acbool) > 2:\n",
    "        multiple_alkenes.append(rdmol)\n",
    "    else:\n",
    "        print(rdmol.GetProp(\"_Name\"))"
   ]
  },
  {
   "cell_type": "code",
   "execution_count": 79,
   "metadata": {},
   "outputs": [],
   "source": [
    "with open(f\"SAD_Database_alk_no_mult.pkl\", 'wb') as f:\n",
    "    pickle.dump(final_mols, f)\n",
    "\n",
    "#Can be used to visualize structures with multiple alkenes\n",
    "# update_visualize_mols(\n",
    "#     name='multiple',\n",
    "#     rdmol_list=multiple_alkenes,\n",
    "#     highlight_bonds=False,\n",
    "# )\n",
    "\n",
    "with open(f\"SAD_Database_mult.pkl\", 'wb') as f:\n",
    "    pickle.dump(multiple_alkenes, f)"
   ]
  }
 ],
 "metadata": {
  "kernelspec": {
   "display_name": "SAD_Modeling",
   "language": "python",
   "name": "python3"
  },
  "language_info": {
   "codemirror_mode": {
    "name": "ipython",
    "version": 3
   },
   "file_extension": ".py",
   "mimetype": "text/x-python",
   "name": "python",
   "nbconvert_exporter": "python",
   "pygments_lexer": "ipython3",
   "version": "3.12.8"
  }
 },
 "nbformat": 4,
 "nbformat_minor": 2
}
