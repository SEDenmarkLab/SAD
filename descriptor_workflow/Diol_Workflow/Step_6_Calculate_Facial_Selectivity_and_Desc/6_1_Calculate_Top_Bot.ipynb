{
 "cells": [
  {
   "cell_type": "code",
   "execution_count": 5,
   "metadata": {},
   "outputs": [],
   "source": [
    "import molli as ml\n",
    "from pprint import pprint\n",
    "import numpy as np\n",
    "from tqdm import tqdm\n",
    "import pandas as pd\n",
    "\n",
    "def create_n_vec(ml_mol:ml.Molecule, q1: ml.Atom, c0: ml.Atom, c1:ml.Atom):\n",
    "    q1c0_v = ml_mol.vector(q1,c0)\n",
    "    c0c1_v = ml_mol.vector(c0,c1)\n",
    "\n",
    "    n_vec = np.cross(q1c0_v,c0c1_v)\n",
    "    z_vec = np.array([0,0,1])\n",
    "    dot_test = np.dot(z_vec, n_vec)\n",
    "\n",
    "    assert (test_sign := np.sign(dot_test)) == 1, f'Alkene vector sign not correct!: {test_sign}, n_vec = {n_vec}, dot_test={dot_test}'\n",
    "\n",
    "    return n_vec\n",
    "\n",
    "def find_oh(ml_mol: ml.Molecule, c0: ml.Atom, c1: ml.Atom, q1: ml.Atom, q4: ml.Atom):\n",
    "    connected_atoms = [c1, q1, q4]\n",
    "    c0_O = None\n",
    "    for atom in ml_mol.connected_atoms(c0):\n",
    "        if atom not in connected_atoms:\n",
    "            assert atom.element == ml.Element.O, f'Found non oxygen atom: {atom}'\n",
    "            c0_O = atom\n",
    "            break\n",
    "    \n",
    "    if c0_O:\n",
    "        return c0_O\n",
    "    else:\n",
    "        raise ValueError(\"Oxygen not found!\")\n",
    "\n",
    "def calc_align(diol_alk_dict: dict, alk_mlib:ml.MoleculeLibrary, diol_mlib: ml.MoleculeLibrary, res_mlib: ml.MoleculeLibrary):\n",
    "\n",
    "    #The alkene has been flipped such that Q1 is in the bottom left corner, so the values need to be flipped\n",
    "    # addn_faces = {1: 'Top', -1: 'Bottom'}\n",
    "    addn_faces = {1: 'Bottom', -1: 'Top'}\n",
    "\n",
    "    with alk_mlib.reading(), diol_mlib.reading(), res_mlib.writing():\n",
    "        for diol_name in tqdm(diol_mlib):\n",
    "\n",
    "            ml_diol = diol_mlib[diol_name]\n",
    "            diol_c0, diol_c1 = [ml_diol.get_atom(x) for x in ml_diol.attrib['C Order']]\n",
    "            diol_c0_idx, diol_c1_idx = [ml_diol.get_atom_index(x) for x in [diol_c0, diol_c1]]\n",
    "\n",
    "            diol_q_atoms = [ml_diol.get_atom(x) for x in ml_diol.attrib['Q1Q4 Order']]\n",
    "            diol_q1a,diol_q4a = diol_q_atoms\n",
    "            diol_q1a_idx, diol_q4a_idx = [ml_diol.get_atom_index(x) for x in diol_q_atoms]\n",
    "\n",
    "            alk_name = diol_alk_dict[diol_name]\n",
    "\n",
    "            ml_alk = alk_mlib[alk_name]\n",
    "            alk_c0,alk_c1 = [ml_alk.get_atom(x) for x in ml_alk.attrib['C Order']]\n",
    "            alk_c0_idx, alk_c1_idx = [ml_alk.get_atom_index(x) for x in [alk_c0,alk_c1]]\n",
    "            alk_type = ml_alk.attrib['_Alkene_Type']\n",
    "\n",
    "            alk_q_atoms = [ml_alk.get_atom(x) for x in ml_alk.attrib['Q Order']]\n",
    "            alk_q1a,alk_q2a,alk_q3a,alk_q4a = alk_q_atoms\n",
    "            alk_q1a_idx,alk_q2a_idx,alk_q3a_idx,alk_q4a_idx = [ml_alk.get_atom_index(x) for x in alk_q_atoms]\n",
    "\n",
    "            #Finds the vector of the OH\n",
    "            diol_c0_O = find_oh(ml_diol, diol_c0, diol_c1, diol_q1a, diol_q4a)\n",
    "            co_vec = ml_diol.vector(diol_c0, diol_c0_O)\n",
    "\n",
    "            #Finds the vector of the \n",
    "            react_n = create_n_vec(ml_alk, alk_q1a, alk_c0, alk_c1)\n",
    "\n",
    "            val = np.sign(np.dot(react_n, co_vec))\n",
    "\n",
    "            ml_diol.attrib['Addition'] = addn_faces[val]\n",
    "            ml_diol.attrib['_Alkene_Type'] = alk_type\n",
    "\n",
    "            res_mlib[diol_name] = ml_diol\n",
    "        \n",
    "        print(res_mlib)"
   ]
  },
  {
   "cell_type": "code",
   "execution_count": 6,
   "metadata": {},
   "outputs": [],
   "source": [
    "max_iter = 10000\n",
    "\n",
    "DB_df = pd.read_csv(\"SAD_Database.csv\")\n",
    "\n",
    "diol_alk_dict = dict(DB_df[[\"Product ID\", \"Reactant ID\"]].values)"
   ]
  },
  {
   "cell_type": "code",
   "execution_count": 7,
   "metadata": {},
   "outputs": [
    {
     "name": "stderr",
     "output_type": "stream",
     "text": [
      "100%|██████████| 888/888 [00:04<00:00, 219.36it/s]"
     ]
    },
    {
     "name": "stdout",
     "output_type": "stream",
     "text": [
      "MoleculeLibrary(backend=UkvCollectionBackend('6_1_Diol_3BFSVol_Assign_10000iter.mlib'), n_items=888)\n"
     ]
    },
    {
     "name": "stderr",
     "output_type": "stream",
     "text": [
      "\n"
     ]
    }
   ],
   "source": [
    "alk_BFSVol_mlib = ml.MoleculeLibrary(\"6_7_Realign_3BFSVol.mlib\")\n",
    "diol_BFSVol_mlib = ml.MoleculeLibrary(f\"5_3_Diol_3BFSVol_Realign_{max_iter}iter.mlib\")\n",
    "res_BFSVol_mlib = ml.MoleculeLibrary(f\"6_1_Diol_3BFSVol_Assign_{max_iter}iter.mlib\", readonly=False, overwrite=True)\n",
    "\n",
    "calc_align(\n",
    "    diol_alk_dict=diol_alk_dict,\n",
    "    alk_mlib=alk_BFSVol_mlib,\n",
    "    diol_mlib=diol_BFSVol_mlib,\n",
    "    res_mlib=res_BFSVol_mlib\n",
    ")"
   ]
  },
  {
   "cell_type": "code",
   "execution_count": 8,
   "metadata": {},
   "outputs": [
    {
     "name": "stderr",
     "output_type": "stream",
     "text": [
      "100%|██████████| 942/942 [00:04<00:00, 216.28it/s]"
     ]
    },
    {
     "name": "stdout",
     "output_type": "stream",
     "text": [
      "MoleculeLibrary(backend=UkvCollectionBackend('6_1_Diol_MaxVol_Assign_10000iter.mlib'), n_items=942)\n"
     ]
    },
    {
     "name": "stderr",
     "output_type": "stream",
     "text": [
      "\n"
     ]
    }
   ],
   "source": [
    "alk_maxvol_mlib = ml.MoleculeLibrary(\"6_7_Realign_3BFSVol.mlib\")\n",
    "diol_maxvol_mlib = ml.MoleculeLibrary(f\"5_3_Diol_MaxVol_Realign_{max_iter}iter.mlib\")\n",
    "res_maxvol_mlib = ml.MoleculeLibrary(f\"6_1_Diol_MaxVol_Assign_{max_iter}iter.mlib\", readonly=False, overwrite=True)\n",
    "\n",
    "calc_align(\n",
    "    diol_alk_dict=diol_alk_dict,\n",
    "    alk_mlib=alk_maxvol_mlib,\n",
    "    diol_mlib=diol_maxvol_mlib,\n",
    "    res_mlib=res_maxvol_mlib\n",
    ")"
   ]
  }
 ],
 "metadata": {
  "kernelspec": {
   "display_name": "SAD_Modeling",
   "language": "python",
   "name": "python3"
  },
  "language_info": {
   "codemirror_mode": {
    "name": "ipython",
    "version": 3
   },
   "file_extension": ".py",
   "mimetype": "text/x-python",
   "name": "python",
   "nbconvert_exporter": "python",
   "pygments_lexer": "ipython3",
   "version": "3.12.8"
  }
 },
 "nbformat": 4,
 "nbformat_minor": 2
}
