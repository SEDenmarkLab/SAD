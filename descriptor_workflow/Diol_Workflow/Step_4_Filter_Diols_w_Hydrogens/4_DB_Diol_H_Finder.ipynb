{
 "cells": [
  {
   "cell_type": "code",
   "execution_count": 19,
   "metadata": {},
   "outputs": [],
   "source": [
    "import molli as ml\n",
    "from molli.external.rdkit import atom_filter as maf\n",
    "import pickle\n",
    "import numpy as np\n",
    "from rdkit import Chem\n",
    "from rdkit.Chem import rdqueries as chemq\n",
    "from rdkit.Chem.PropertyMol import PropertyMol\n",
    "from rdkit.Chem.Draw import rdMolDraw2D\n",
    "from rdkit.Chem.Draw import IPythonConsole\n",
    "from rdkit.Chem import Draw\n",
    "from pprint import pprint\n",
    "import pandas as pd\n",
    "\n",
    "def sp3_type(rdmol:PropertyMol):\n",
    "    '''\n",
    "    This takes a numpy array of Atom IDs and returns a boolean for where SP3 atoms exist. \n",
    "    Inputs to this function are built for an ORDERED LIST OF ALL ATOM IDs from LEAST TO GREATEST.\n",
    "    Will most likely be added to later iterations of molli but is not currently available in Molli 1.2.1\n",
    "    '''\n",
    "    sp3_atoms = chemq.HybridizationEqualsQueryAtom(Chem.HybridizationType.SP3)\n",
    "    sp3 = np.array([x.GetIdx() for x in rdmol.GetAtomsMatchingQuery(sp3_atoms)])\n",
    "    atoms_array = np.array([x.GetIdx() for x in rdmol.GetAtoms()])\n",
    "    sp3_bool = np.in1d(atoms_array, sp3)\n",
    "    return sp3_bool\n",
    "\n",
    "def has_chiraltag(rdmol:PropertyMol):\n",
    "    '''\n",
    "    This takes a numpy array of Atom IDs and returns a boolean for where the atom has a chiral tag.\n",
    "    Inputs to this function are built for an ORDERED LIST OF ALL ATOM IDs from LEAST TO GREATEST.\n",
    "    Will most likely be added to later iterations of molli but is not currently available in Molli 1.2.1\n",
    "    '''\n",
    "    has_chiraltags = chemq.HasChiralTagQueryAtom()\n",
    "    has_chiraltag = np.array([x.GetIdx() for x in rdmol.GetAtomsMatchingQuery(has_chiraltags)])\n",
    "    atoms_array = np.array([x.GetIdx() for x in rdmol.GetAtoms()])\n",
    "    has_chiraltag_bool = np.in1d(atoms_array, has_chiraltag)\n",
    "    return has_chiraltag_bool\n",
    "\n",
    "def sort_ids(s: str):\n",
    "    '''This will correctly sort any type of reaction IDs'''\n",
    "    _, b = s.split('_')\n",
    "    return int(b)\n",
    "\n",
    "def connect_check(rdmol, alk_bool: np.ndarray):\n",
    "    \"\"\"\n",
    "    This checks if the atoms identified are connected\n",
    "    \"\"\"\n",
    "\n",
    "    # This returns dictionary of atom index : atom object for the indices where the bool array was true\n",
    "    isolated_carbon_atoms = [\n",
    "        rdmol.GetAtomWithIdx(int(i)) for i in np.where(alk_bool)[0]\n",
    "    ]\n",
    "\n",
    "    carbon1_neighbor_atom_idx = list()\n",
    "    carbon1 = isolated_carbon_atoms[0]\n",
    "    carbon2 = isolated_carbon_atoms[1]\n",
    "\n",
    "    carbon1_neighbor_atoms = carbon1.GetNeighbors()\n",
    "\n",
    "    for neighbor in carbon1_neighbor_atoms:\n",
    "        neighbor_idx = neighbor.GetIdx()\n",
    "        carbon1_neighbor_atom_idx.append(neighbor_idx)\n",
    "    if carbon2.GetIdx() in carbon1_neighbor_atom_idx:\n",
    "        return True\n",
    "    else:\n",
    "        print(f'{rdmol.GetProp(\"_Name\")} do not have carbons connecting')\n",
    "        return False\n",
    "\n",
    "def full_check(\n",
    "        rdmol: PropertyMol,\n",
    "        af_filter: np.ndarray,\n",
    "        prop_value: str = \"_Diol\",\n",
    "):\n",
    "    rdmol.SetProp(prop_value, \"\".join(\"1\" if v else \"0\" for v in af_filter))\n",
    "    recall_af_filter = np.array(\n",
    "        [True if v == \"1\" else False for v in rdmol.GetProp(prop_value)]\n",
    "    )\n",
    "    problem = 0\n",
    "    # Tests to make sure the array property is set and returned properly\n",
    "    if all(recall_af_filter == af_filter):\n",
    "        if connect_check(rdmol, af_filter):\n",
    "            return problem\n",
    "        else:\n",
    "            problem = 1\n",
    "            return problem\n",
    "    else:\n",
    "        print(\n",
    "            f'{rdmol.GetProp(\"_Name\")} did not correctly return alkene boolean, appended to problematic mol object list'\n",
    "        )\n",
    "        problem = 1\n",
    "        return problem\n",
    "\n",
    "def update_visualize_mols(\n",
    "    name: str,\n",
    "    rdmol_list: list,\n",
    "    subImgSize=(700, 700),\n",
    "    legendFontSize=30,\n",
    "    molsPerRow=5,\n",
    "    label: str = \"_Name\",\n",
    "    highlight_bonds=True,\n",
    "    highlight_prop=\"_Alkene\",\n",
    "):\n",
    "    legends = [i.GetProp(label) for i in rdmol_list]\n",
    "    nRows = len(rdmol_list) // molsPerRow\n",
    "    if len(rdmol_list) % molsPerRow:\n",
    "        nRows += 1\n",
    "    fullSize = (molsPerRow * subImgSize[0], nRows * subImgSize[1])\n",
    "\n",
    "    d2d = rdMolDraw2D.MolDraw2DSVG(\n",
    "        fullSize[0], fullSize[1], subImgSize[0], subImgSize[1]\n",
    "    )\n",
    "    d2d.drawOptions().legendFontSize = legendFontSize\n",
    "    if len(rdmol_list) != 0:\n",
    "        highlight_atoms_vals = list()\n",
    "        highlight_bonds_vals = list()\n",
    "\n",
    "        # This finds the atoms highlighted and bonds that exist between them\n",
    "        if highlight_bonds:\n",
    "            for rdmol in rdmol_list:\n",
    "                # print(rdmol)\n",
    "                # print(rdmol.GetProp('_Alkene'))\n",
    "                _filter = np.array(\n",
    "                    [True if v == \"1\" else False for v in rdmol.GetProp(highlight_prop)]\n",
    "                )\n",
    "                # print(_filter)\n",
    "                # raise ValueError()\n",
    "                sub_atoms = [int(i) for i in np.where(_filter)[0]]\n",
    "                highlight_atoms_vals.append(sub_atoms)\n",
    "                sub_bonds = list()\n",
    "                for bond in rdmol.GetBonds():\n",
    "                    a1 = bond.GetBeginAtomIdx()\n",
    "                    a2 = bond.GetEndAtomIdx()\n",
    "                    if (a1 in sub_atoms) and (a2 in sub_atoms):\n",
    "                        sub_bonds.append(rdmol.GetBondBetweenAtoms(a1, a2).GetIdx())\n",
    "                highlight_bonds_vals.append(sub_bonds)\n",
    "        else:\n",
    "            highlight_atoms_vals = None\n",
    "            highlight_bonds = None\n",
    "\n",
    "        d2d.DrawMolecules(\n",
    "            rdmol_list,\n",
    "            highlightAtoms=highlight_atoms_vals,\n",
    "            highlightBonds=highlight_bonds_vals,\n",
    "            legends=legends,\n",
    "        )\n",
    "        d2d.FinishDrawing()\n",
    "\n",
    "        with open(f\"{name}.svg\", \"w\") as f:\n",
    "            f.write(d2d.GetDrawingText())\n",
    "\n",
    "def create_rdlist(\n",
    "        df: pd.DataFrame,\n",
    "        label_col :str,\n",
    "        smi_col: str,\n",
    "        pkl_name = None):\n",
    "    \n",
    "    rdlist = list()\n",
    "\n",
    "    #This creates a dictionary associated with a label and smiles string\n",
    "    label_map = {df[label_col][i] : df[smi_col][i] for i in df.index}\n",
    "    \n",
    "    for label_id in label_map:\n",
    "        rdmol = PropertyMol(Chem.MolFromSmiles(label_map[label_id]))\n",
    "        rdmol.SetProp(\"_Name\", f'{label_id}')\n",
    "        rdlist.append(rdmol)\n",
    "    \n",
    "    if pkl_name:\n",
    "        with open(f'{pkl_name}', 'wb') as f:\n",
    "            pickle.dump(rdlist, f)\n",
    "\n",
    "    return rdlist"
   ]
  },
  {
   "cell_type": "code",
   "execution_count": 20,
   "metadata": {},
   "outputs": [],
   "source": [
    "with open(\"3_Canonical_Diol_w_h.pkl\", \"rb\") as f:\n",
    "    prd = pickle.load(f)\n",
    "\n",
    "[Chem.SanitizeMol(x) for x in prd]\n",
    "\n",
    "prop_value = \"_Diol_w_H\"\n",
    "\n",
    "rem_mols = list()\n",
    "filter1_diols = list()\n",
    "final_diol_mols = list()\n",
    "\n",
    "rem_mols = list()\n",
    "filter1_diols = list()\n",
    "final_diol_mols = list()"
   ]
  },
  {
   "cell_type": "code",
   "execution_count": 21,
   "metadata": {},
   "outputs": [
    {
     "name": "stderr",
     "output_type": "stream",
     "text": [
      "C:\\Users\\BlakeOcampo\\AppData\\Local\\Temp\\ipykernel_37552\\3004038586.py:23: DeprecationWarning: `in1d` is deprecated. Use `np.isin` instead.\n",
      "  sp3_bool = np.in1d(atoms_array, sp3)\n"
     ]
    },
    {
     "name": "stdout",
     "output_type": "stream",
     "text": [
      "Check 1 has found 363 diols\n",
      "There are 624 remaining\n"
     ]
    }
   ],
   "source": [
    "#Check 1\n",
    "for rdmol in prd:\n",
    "    maf_mol = maf(rdmol)\n",
    "    mol_bool = sp3_type(rdmol) & maf_mol.carbon_type() & maf_mol.smarts_query('CO')\n",
    "    if np.count_nonzero(mol_bool) == 2:\n",
    "        problem = full_check(rdmol, mol_bool, prop_value=prop_value)\n",
    "        if not problem:\n",
    "            final_diol_mols.append(rdmol)\n",
    "            filter1_diols.append(rdmol)\n",
    "        else:\n",
    "            rem_mols.append(rdmol)\n",
    "    else:\n",
    "        rem_mols.append(rdmol)\n",
    "\n",
    "# update_visualize_mols('Filter1', filter1_diols, highlight_bonds=True, highlight_prop=prop_value)\n",
    "print(f\"Check 1 has found {len(filter1_diols)} diols\")\n",
    "print(f\"There are {len(rem_mols)} remaining\")"
   ]
  },
  {
   "cell_type": "code",
   "execution_count": 22,
   "metadata": {},
   "outputs": [
    {
     "name": "stderr",
     "output_type": "stream",
     "text": [
      "C:\\Users\\BlakeOcampo\\AppData\\Local\\Temp\\ipykernel_37552\\3004038586.py:23: DeprecationWarning: `in1d` is deprecated. Use `np.isin` instead.\n",
      "  sp3_bool = np.in1d(atoms_array, sp3)\n"
     ]
    },
    {
     "name": "stdout",
     "output_type": "stream",
     "text": [
      "Check 2 has found 26 diols\n",
      "There are 598 remaining\n"
     ]
    }
   ],
   "source": [
    "rem_mols_2 = list()\n",
    "filter2_diols = list()\n",
    "#Check 2\n",
    "for rdmol in rem_mols:\n",
    "    maf_mol = maf(rdmol)\n",
    "    mol_bool = (\n",
    "        sp3_type(rdmol)\n",
    "        & maf_mol.carbon_type() \n",
    "        & maf_mol.in_1_ring()\n",
    "        & maf_mol.het_neighbors_1()\n",
    "        & ~maf_mol.smarts_query(\"[OR1X2][CR1X4]*[NR1X3][CR1X3](=O)\")\n",
    "        & ~maf_mol.smarts_query(\"COC\")\n",
    "        & ~maf_mol.smarts_query(\"cOC\")\n",
    "        & ~maf_mol.smarts_query(\"OCC*N\")\n",
    "        & ~maf_mol.smarts_query(\"OCCN\")\n",
    "    )\n",
    "    if np.count_nonzero(mol_bool) == 2:\n",
    "        problem = full_check(rdmol, mol_bool, prop_value=prop_value)\n",
    "        if not problem:\n",
    "            final_diol_mols.append(rdmol)\n",
    "            filter2_diols.append(rdmol)\n",
    "        else:\n",
    "            rem_mols_2.append(rdmol)\n",
    "    else:\n",
    "        rem_mols_2.append(rdmol)\n",
    "\n",
    "# update_visualize_mols('Filter2', filter2_diols, highlight_bonds=True, highlight_prop=prop_value)\n",
    "print(f\"Check 2 has found {len(filter2_diols)} diols\")\n",
    "print(f\"There are {len(rem_mols_2)} remaining\")"
   ]
  },
  {
   "cell_type": "code",
   "execution_count": 23,
   "metadata": {},
   "outputs": [
    {
     "name": "stderr",
     "output_type": "stream",
     "text": [
      "C:\\Users\\BlakeOcampo\\AppData\\Local\\Temp\\ipykernel_37552\\3004038586.py:23: DeprecationWarning: `in1d` is deprecated. Use `np.isin` instead.\n",
      "  sp3_bool = np.in1d(atoms_array, sp3)\n"
     ]
    },
    {
     "name": "stdout",
     "output_type": "stream",
     "text": [
      "Check 3 has found 158 diols\n",
      "There are 440 remaining\n"
     ]
    }
   ],
   "source": [
    "rem_mols_3 = list()\n",
    "filter3_diols = list()\n",
    "#Check 3\n",
    "for rdmol in rem_mols_2:\n",
    "    maf_mol = maf(rdmol)\n",
    "    mol_bool = (\n",
    "        sp3_type(rdmol)\n",
    "        & maf_mol.carbon_type()\n",
    "        & maf_mol.smarts_query(\"[OHX2][CH2][CX4][OHX2]\")\n",
    "        & ~maf_mol.smarts_query(\"[OHX2][CH2][CX4](C[OH])[OHX2]\")\n",
    "        & ~maf_mol.smarts_query(\"[OR1X2][CR1X4]*[NR1X3][CR1X3](=O)\")\n",
    "        & ~maf_mol.smarts_query(\"COC\")\n",
    "        & ~maf_mol.smarts_query(\"cOC\")\n",
    "        & ~maf_mol.smarts_query(\"OCC*N\")\n",
    "        & ~maf_mol.smarts_query(\"OCCN\")\n",
    "    )\n",
    "    if np.count_nonzero(mol_bool) == 2:\n",
    "        problem = full_check(rdmol, mol_bool, prop_value=prop_value)\n",
    "        if not problem:\n",
    "            final_diol_mols.append(rdmol)\n",
    "            filter3_diols.append(rdmol)\n",
    "        else:\n",
    "            rem_mols_3.append(rdmol)\n",
    "    else:\n",
    "        rem_mols_3.append(rdmol)\n",
    "\n",
    "# update_visualize_mols('Filter3', filter3_diols, highlight_bonds=True, highlight_prop=prop_value)\n",
    "print(f\"Check 3 has found {len(filter3_diols)} diols\")\n",
    "print(f\"There are {len(rem_mols_3)} remaining\")"
   ]
  },
  {
   "cell_type": "code",
   "execution_count": 24,
   "metadata": {},
   "outputs": [
    {
     "name": "stderr",
     "output_type": "stream",
     "text": [
      "C:\\Users\\BlakeOcampo\\AppData\\Local\\Temp\\ipykernel_37552\\3004038586.py:23: DeprecationWarning: `in1d` is deprecated. Use `np.isin` instead.\n",
      "  sp3_bool = np.in1d(atoms_array, sp3)\n"
     ]
    },
    {
     "name": "stdout",
     "output_type": "stream",
     "text": [
      "Check 4 has found 289 diols\n",
      "There are 151 remaining\n"
     ]
    }
   ],
   "source": [
    "rem_mols_4 = list()\n",
    "filter4_diols = list()\n",
    "#Check 4\n",
    "for rdmol in rem_mols_3:\n",
    "    maf_mol = maf(rdmol)\n",
    "    mol_bool = (\n",
    "        sp3_type(rdmol)\n",
    "        & maf_mol.carbon_type()\n",
    "        & maf_mol.smarts_query(\"[OHX2][CX4][CX4][OHX2]\")\n",
    "        & ~maf_mol.smarts_query(\"[OHX2][CX4][CX4](C[OH])[OHX2]\")\n",
    "        & ~maf_mol.smarts_query(\"[OHX2][CX4](C[OH])[CX4](C[OH])[OHX2]\")\n",
    "        & ~maf_mol.smarts_query(\"[OHX2][CX4](C[OH])[CX4][OHX2]\")\n",
    "        & ~maf_mol.smarts_query(\"[OR1X2][CR1X4]*[NR1X3][CR1X3](=O)\")\n",
    "        & ~maf_mol.smarts_query(\"COC\")\n",
    "        & ~maf_mol.smarts_query(\"cOC\")\n",
    "        & ~maf_mol.smarts_query(\"OCC*N\")\n",
    "        & ~maf_mol.smarts_query(\"OCCN\")\n",
    "    )\n",
    "    if np.count_nonzero(mol_bool) == 2:\n",
    "        problem = full_check(rdmol, mol_bool, prop_value=prop_value)\n",
    "        if not problem:\n",
    "            final_diol_mols.append(rdmol)\n",
    "            filter4_diols.append(rdmol)\n",
    "        else:\n",
    "            rem_mols_4.append(rdmol)\n",
    "    else:\n",
    "        rem_mols_4.append(rdmol)\n",
    "\n",
    "# update_visualize_mols('Filter4', filter4_diols, highlight_bonds=True, highlight_prop=prop_value)\n",
    "print(f\"Check 4 has found {len(filter4_diols)} diols\")\n",
    "print(f\"There are {len(rem_mols_4)} remaining\")"
   ]
  },
  {
   "cell_type": "code",
   "execution_count": 25,
   "metadata": {},
   "outputs": [
    {
     "name": "stderr",
     "output_type": "stream",
     "text": [
      "C:\\Users\\BlakeOcampo\\AppData\\Local\\Temp\\ipykernel_37552\\3004038586.py:23: DeprecationWarning: `in1d` is deprecated. Use `np.isin` instead.\n",
      "  sp3_bool = np.in1d(atoms_array, sp3)\n",
      "C:\\Users\\BlakeOcampo\\AppData\\Local\\Temp\\ipykernel_37552\\3004038586.py:35: DeprecationWarning: `in1d` is deprecated. Use `np.isin` instead.\n",
      "  has_chiraltag_bool = np.in1d(atoms_array, has_chiraltag)\n"
     ]
    },
    {
     "name": "stdout",
     "output_type": "stream",
     "text": [
      "Check 5 has found 127 diols\n",
      "There are 24 remaining\n"
     ]
    }
   ],
   "source": [
    "rem_mols_5 = list()\n",
    "filter5_diols = list()\n",
    "#Check 5\n",
    "for rdmol in rem_mols_4:\n",
    "    maf_mol = maf(rdmol)\n",
    "    mol_bool = (\n",
    "        sp3_type(rdmol)\n",
    "        & maf_mol.carbon_type()\n",
    "        & has_chiraltag(rdmol)\n",
    "    )\n",
    "    if np.count_nonzero(mol_bool) == 2:\n",
    "        problem = full_check(rdmol, mol_bool, prop_value=prop_value)\n",
    "        if not problem:\n",
    "            final_diol_mols.append(rdmol)\n",
    "            filter5_diols.append(rdmol)\n",
    "        else:\n",
    "            rem_mols_5.append(rdmol)\n",
    "    else:\n",
    "        rem_mols_5.append(rdmol)\n",
    "\n",
    "# update_visualize_mols('Filter5', filter5_diols, highlight_bonds=True, highlight_prop=prop_value)\n",
    "print(f\"Check 5 has found {len(filter5_diols)} diols\")\n",
    "print(f\"There are {len(rem_mols_5)} remaining\")"
   ]
  },
  {
   "cell_type": "code",
   "execution_count": null,
   "metadata": {},
   "outputs": [
    {
     "name": "stderr",
     "output_type": "stream",
     "text": [
      "C:\\Users\\BlakeOcampo\\AppData\\Local\\Temp\\ipykernel_37552\\3004038586.py:23: DeprecationWarning: `in1d` is deprecated. Use `np.isin` instead.\n",
      "  sp3_bool = np.in1d(atoms_array, sp3)\n",
      "C:\\Users\\BlakeOcampo\\AppData\\Local\\Temp\\ipykernel_37552\\3004038586.py:35: DeprecationWarning: `in1d` is deprecated. Use `np.isin` instead.\n",
      "  has_chiraltag_bool = np.in1d(atoms_array, has_chiraltag)\n"
     ]
    },
    {
     "name": "stdout",
     "output_type": "stream",
     "text": [
      "Check 6 has found 24 alkenes\n",
      "There are 0 remaining\n"
     ]
    }
   ],
   "source": [
    "rem_mols_6 = list()\n",
    "filter6_diols = list()\n",
    "#Check 6\n",
    "for rdmol in rem_mols_5:\n",
    "    maf_mol = maf(rdmol)\n",
    "    mol_bool = (\n",
    "        sp3_type(rdmol)\n",
    "        & maf_mol.carbon_type()\n",
    "        & (maf_mol.smarts_query(\"[OHX2][CX4][CX4][OHX2]\") | has_chiraltag(rdmol))\n",
    "    )\n",
    "    if np.count_nonzero(mol_bool) == 2:\n",
    "        problem = full_check(rdmol, mol_bool, prop_value=prop_value)\n",
    "        if not problem:\n",
    "            final_diol_mols.append(rdmol)\n",
    "            filter6_diols.append(rdmol)\n",
    "        else:\n",
    "            rem_mols_6.append(rdmol)\n",
    "    else:\n",
    "        rem_mols_6.append(rdmol)\n",
    "\n",
    "# update_visualize_mols('Filter6', filter6_diols, highlight_bonds=True, highlight_prop=prop_value)\n",
    "print(f\"Check 6 has found {len(filter6_diols)} alkenes\")\n",
    "print(f\"There are {len(rem_mols_6)} remaining\")"
   ]
  },
  {
   "cell_type": "code",
   "execution_count": 27,
   "metadata": {},
   "outputs": [
    {
     "name": "stdout",
     "output_type": "stream",
     "text": [
      "987\n"
     ]
    }
   ],
   "source": [
    "update_visualize_mols('Remaining_Mols', rem_mols_6, highlight_bonds=False)\n",
    "\n",
    "print(len(final_diol_mols))\n",
    "with open(f\"4_Diol_w_H_Filter.pkl\", 'wb') as f:\n",
    "    pickle.dump(final_diol_mols, f)\n",
    "\n",
    "mlib = ml.MoleculeLibrary(\"3_Diol_Reordered.mlib\")\n",
    "mlib_prop = ml.MoleculeLibrary(\"4_DB_Diols_w_H.mlib\", readonly=False, overwrite=True)\n",
    "\n",
    "with mlib.reading(), mlib_prop.writing():\n",
    "    for diol in final_diol_mols:\n",
    "        name = diol.GetProp(\"_Name\")\n",
    "        m = mlib[name]\n",
    "        \n",
    "        m.attrib[prop_value] = diol.GetProp(prop_value)\n",
    "        mlib_prop[name] = m"
   ]
  }
 ],
 "metadata": {
  "kernelspec": {
   "display_name": "SAD_Modeling",
   "language": "python",
   "name": "python3"
  },
  "language_info": {
   "codemirror_mode": {
    "name": "ipython",
    "version": 3
   },
   "file_extension": ".py",
   "mimetype": "text/x-python",
   "name": "python",
   "nbconvert_exporter": "python",
   "pygments_lexer": "ipython3",
   "version": "3.12.8"
  }
 },
 "nbformat": 4,
 "nbformat_minor": 2
}
