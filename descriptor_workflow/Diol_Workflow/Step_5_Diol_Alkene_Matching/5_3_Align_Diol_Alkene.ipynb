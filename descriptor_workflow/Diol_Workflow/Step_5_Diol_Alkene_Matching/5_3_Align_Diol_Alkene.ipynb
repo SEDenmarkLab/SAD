{
 "cells": [
  {
   "cell_type": "code",
   "execution_count": 3,
   "metadata": {},
   "outputs": [],
   "source": [
    "import molli as ml\n",
    "from pprint import pprint\n",
    "import numpy as np\n",
    "from tqdm import tqdm\n",
    "from molli.math import rotation_matrix_from_vectors\n",
    "import pandas as pd\n",
    "from scipy.spatial.transform import Rotation\n",
    "\n",
    "def set_origin(ml_mol:ml.Molecule,i: int):\n",
    "    ml_mol.translate(-1*ml_mol.coords[i])\n",
    "\n",
    "def rot_rz(ml_mol: ml.Molecule, c0:ml.Atom, c1: ml.Atom):\n",
    "    v1 = ml_mol.vector(c0, c1)\n",
    "    t_matrix = rotation_matrix_from_vectors(v1, np.array([1,0,0]))\n",
    "    ml_mol.transform(t_matrix)\n",
    "\n",
    "def align_diol(diol_alk_dict:dict, alk_mlib: ml.MoleculeLibrary, diol_mlib:ml.MoleculeLibrary, align_diol_mlib: ml.MoleculeLibrary):\n",
    "\n",
    "    with alk_mlib.reading(), diol_mlib.reading(), align_diol_mlib.writing():\n",
    "        for diol_name in tqdm(diol_mlib):\n",
    "\n",
    "            ml_diol = diol_mlib[diol_name]\n",
    "            diol_c0, diol_c1 = [ml_diol.get_atom(x) for x in ml_diol.attrib['C Order']]\n",
    "            diol_c0_idx, diol_c1_idx = [ml_diol.get_atom_index(x) for x in [diol_c0, diol_c1]]\n",
    "\n",
    "            diol_q_atoms = [ml_diol.get_atom(x) for x in ml_diol.attrib['Q1Q4 Order']]\n",
    "            diol_q1a,diol_q4a = diol_q_atoms\n",
    "            diol_q1a_idx, diol_q4a_idx = [ml_diol.get_atom_index(x) for x in diol_q_atoms]\n",
    "\n",
    "            alk_name = diol_alk_dict[diol_name]\n",
    "\n",
    "            ml_alk = alk_mlib[alk_name]\n",
    "            alk_c0,alk_c1 = [ml_alk.get_atom(x) for x in ml_alk.attrib['C Order']]\n",
    "            alk_c0_idx, alk_c1_idx = [ml_alk.get_atom_index(x) for x in [alk_c0,alk_c1]]\n",
    "\n",
    "            alk_q_atoms = [ml_alk.get_atom(x) for x in ml_alk.attrib['Q Order']]\n",
    "            alk_q1a,alk_q2a,alk_q3a,alk_q4a = alk_q_atoms\n",
    "            alk_q1a_idx,alk_q2a_idx,alk_q3a_idx,alk_q4a_idx = [ml_alk.get_atom_index(x) for x in alk_q_atoms]\n",
    "\n",
    "\n",
    "\n",
    "            #Sets Alkene Carbon C0 to be the origin\n",
    "            set_origin(ml_diol, diol_c0_idx)\n",
    "\n",
    "            #Rotates molecule such that alkene atoms are along the X-axis (C0 --> C1)\n",
    "            rot_rz(ml_diol, diol_c0, diol_c1)\n",
    "\n",
    "            alk_subgeom = ml_alk.coord_subset([alk_q1a, alk_q4a, alk_c0, alk_c1])\n",
    "            diol_subgeom = ml_diol.coord_subset([diol_q1a, diol_q4a, diol_c0, diol_c1])\n",
    "\n",
    "            _R, rmsd = Rotation.align_vectors(diol_subgeom, alk_subgeom)\n",
    "            R = _R.as_matrix()\n",
    "            ml_diol.transform(R)\n",
    "\n",
    "            rot_rz(ml_diol, diol_c0, diol_c1)\n",
    "\n",
    "            align_diol_mlib[diol_name] = ml_diol\n",
    "        \n",
    "        print(align_diol_mlib)\n"
   ]
  },
  {
   "cell_type": "code",
   "execution_count": 4,
   "metadata": {},
   "outputs": [
    {
     "name": "stderr",
     "output_type": "stream",
     "text": [
      "100%|██████████| 888/888 [00:04<00:00, 185.78it/s]"
     ]
    },
    {
     "name": "stdout",
     "output_type": "stream",
     "text": [
      "MoleculeLibrary(backend=UkvCollectionBackend('5_3_Diol_3BFSVol_Realign_10000iter.mlib'), n_items=888)\n"
     ]
    },
    {
     "name": "stderr",
     "output_type": "stream",
     "text": [
      "\n"
     ]
    }
   ],
   "source": [
    "max_iter = 10000\n",
    "\n",
    "DB_df = pd.read_csv(\"SAD_Database.csv\")\n",
    "\n",
    "diol_alk_dict = dict(DB_df[[\"Product ID\", \"Reactant ID\"]].values)\n",
    "\n",
    "alk_BFSVol_mlib = ml.MoleculeLibrary(\"6_7_Realign_3BFSVol.mlib\")\n",
    "diol_BFSVol_mlib = ml.MoleculeLibrary(f\"5_2_Diol_Q1Q4_3BFSVol_Assign_{max_iter}iter.mlib\")\n",
    "align_BFSVol_mlib = ml.MoleculeLibrary(f\"5_3_Diol_3BFSVol_Realign_{max_iter}iter.mlib\", readonly=False, overwrite=True)\n",
    "\n",
    "align_diol(diol_alk_dict=diol_alk_dict, alk_mlib=alk_BFSVol_mlib, diol_mlib=diol_BFSVol_mlib, align_diol_mlib=align_BFSVol_mlib)"
   ]
  },
  {
   "cell_type": "code",
   "execution_count": 5,
   "metadata": {},
   "outputs": [
    {
     "name": "stderr",
     "output_type": "stream",
     "text": [
      "100%|██████████| 942/942 [00:05<00:00, 186.43it/s]"
     ]
    },
    {
     "name": "stdout",
     "output_type": "stream",
     "text": [
      "MoleculeLibrary(backend=UkvCollectionBackend('5_3_Diol_MaxVol_Realign_10000iter.mlib'), n_items=942)\n"
     ]
    },
    {
     "name": "stderr",
     "output_type": "stream",
     "text": [
      "\n"
     ]
    }
   ],
   "source": [
    "alk_maxvol_mlib = ml.MoleculeLibrary(\"6_7_Realign_MaxVol.mlib\")\n",
    "diol_maxvol_mlib = ml.MoleculeLibrary(f\"5_2_Diol_Q1Q4_MaxVol_Assign_{max_iter}iter.mlib\")\n",
    "align_maxvol_mlib = ml.MoleculeLibrary(f\"5_3_Diol_MaxVol_Realign_{max_iter}iter.mlib\", readonly=False, overwrite=True)\n",
    "\n",
    "align_diol(diol_alk_dict=diol_alk_dict, alk_mlib=alk_maxvol_mlib, diol_mlib=diol_maxvol_mlib, align_diol_mlib=align_maxvol_mlib)"
   ]
  }
 ],
 "metadata": {
  "kernelspec": {
   "display_name": "SAD_Modeling",
   "language": "python",
   "name": "python3"
  },
  "language_info": {
   "codemirror_mode": {
    "name": "ipython",
    "version": 3
   },
   "file_extension": ".py",
   "mimetype": "text/x-python",
   "name": "python",
   "nbconvert_exporter": "python",
   "pygments_lexer": "ipython3",
   "version": "3.12.8"
  }
 },
 "nbformat": 4,
 "nbformat_minor": 2
}
