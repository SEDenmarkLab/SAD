{
 "cells": [
  {
   "cell_type": "code",
   "execution_count": 1,
   "metadata": {},
   "outputs": [
    {
     "name": "stderr",
     "output_type": "stream",
     "text": [
      "100%|██████████| 987/987 [00:11<00:00, 83.60it/s]\n"
     ]
    }
   ],
   "source": [
    "import pandas as pd\n",
    "import pickle\n",
    "from rdkit import Chem\n",
    "from rdkit.Chem import AllChem as ac\n",
    "from rdkit.Chem.PropertyMol import PropertyMol\n",
    "import molli as ml\n",
    "from molli.external import openbabel as mob\n",
    "from tqdm import tqdm\n",
    "\n",
    "db_df = pd.read_csv(\"SAD_Database.csv\")\n",
    "\n",
    "with open(\"1_Database_Diol_Identify.pkl\", \"rb\") as f:\n",
    "    prod_mols = pickle.load(f)\n",
    "\n",
    "for rd_mol in tqdm(prod_mols):\n",
    "    current_name = rd_mol.GetProp(\"_Name\")\n",
    "    olefin_type_arr = db_df.query(\"`Product ID` == @current_name\")[\n",
    "        \"Olefin Type\"\n",
    "    ].to_numpy()\n",
    "    if olefin_type_arr.shape != (1,):\n",
    "        assert all([True for i in olefin_type_arr if i == olefin_type_arr[0]]), \"rip\"\n",
    "\n",
    "    olefin_type = olefin_type_arr[0]\n",
    "    rd_mol.SetProp(\"_Alkene_Type\", f\"{olefin_type}\")\n",
    "    all_centers = Chem.FindMolChiralCenters(\n",
    "        rd_mol, force=True, includeUnassigned=True, useLegacyImplementation=False\n",
    "    )\n",
    "    rd_mol.SetProp(\"_CIP\", all_centers)\n",
    "\n",
    "ex_props = [\"_Name\", \"_Alkene_Type\", \"_CIP\", \"_Canonical_SMILES\"]\n",
    "\n",
    "with open(f\"2_Diol_Type_and_CIP.pkl\", \"wb\") as f:\n",
    "    pickle.dump(prod_mols, f)"
   ]
  },
  {
   "cell_type": "code",
   "execution_count": 2,
   "metadata": {},
   "outputs": [
    {
     "name": "stderr",
     "output_type": "stream",
     "text": [
      "100%|██████████| 987/987 [01:41<00:00,  9.73it/s]\n"
     ]
    }
   ],
   "source": [
    "mlib = ml.MoleculeLibrary(\n",
    "    f\"2_Diol_Unordered.mlib\",\n",
    "    overwrite=True,\n",
    "    readonly=False,\n",
    ")\n",
    "ex_mols_w_h = list()\n",
    "\n",
    "with mlib.writing():\n",
    "    for rdmol in tqdm(prod_mols):\n",
    "        try:\n",
    "            name = rdmol.GetProp(\"_Name\")\n",
    "            rdmol.SetProp(\"_Canonical_SMILES\", Chem.MolToSmiles(rdmol, canonical=True))\n",
    "            rdmol_w_h = PropertyMol(Chem.AddHs(rdmol))\n",
    "            ac.EmbedMolecule(rdmol_w_h)\n",
    "            ac.MMFFOptimizeMolecule(rdmol_w_h)\n",
    "            mlmol = mob.loads_obmol(Chem.MolToMolBlock(rdmol_w_h), \"mol\")\n",
    "            mlib[name] = mlmol\n",
    "            ex_mols_w_h.append(rdmol_w_h)\n",
    "            for prop in ex_props:\n",
    "                rdmol_w_h.SetProp(prop, rdmol.GetProp(prop))\n",
    "            ex_mols_w_h.append(rdmol_w_h)\n",
    "        except Exception as e:\n",
    "            print(e)\n",
    "            print(name)\n",
    "            print(rdmol.GetProp(\"_Canonical_SMILES\"))\n",
    "            continue\n",
    "\n",
    "with open(f\"2_Diol_Unordered_w_H.pkl\", \"wb\") as f:\n",
    "    pickle.dump(ex_mols_w_h, f)"
   ]
  }
 ],
 "metadata": {
  "kernelspec": {
   "display_name": "SAD_Modeling",
   "language": "python",
   "name": "python3"
  },
  "language_info": {
   "codemirror_mode": {
    "name": "ipython",
    "version": 3
   },
   "file_extension": ".py",
   "mimetype": "text/x-python",
   "name": "python",
   "nbconvert_exporter": "python",
   "pygments_lexer": "ipython3",
   "version": "3.12.8"
  }
 },
 "nbformat": 4,
 "nbformat_minor": 2
}
